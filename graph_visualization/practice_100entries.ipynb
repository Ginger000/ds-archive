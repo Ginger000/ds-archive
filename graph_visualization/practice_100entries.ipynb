{
 "metadata": {
  "language_info": {
   "codemirror_mode": {
    "name": "ipython",
    "version": 3
   },
   "file_extension": ".py",
   "mimetype": "text/x-python",
   "name": "python",
   "nbconvert_exporter": "python",
   "pygments_lexer": "ipython3",
   "version": "3.7.8"
  },
  "orig_nbformat": 2,
  "kernelspec": {
   "name": "python378jvsc74a57bd0cbc1630f6ac27d00c9f4ea5ff59d07a3d2920d2fb3e683b05679c37215caa53f",
   "display_name": "Python 3.7.8 64-bit"
  },
  "metadata": {
   "interpreter": {
    "hash": "cbc1630f6ac27d00c9f4ea5ff59d07a3d2920d2fb3e683b05679c37215caa53f"
   }
  }
 },
 "nbformat": 4,
 "nbformat_minor": 2,
 "cells": [
  {
   "cell_type": "code",
   "execution_count": 1,
   "metadata": {},
   "outputs": [],
   "source": [
    "import networkx as nx\n",
    "import matplotlib as plt\n",
    "import pandas as pd\n",
    "import numpy as np"
   ]
  },
  {
   "cell_type": "code",
   "execution_count": 2,
   "metadata": {},
   "outputs": [
    {
     "output_type": "stream",
     "name": "stdout",
     "text": [
      "Cheese\nPrehistory\nMilking_pipeline\nLangres_cheese\nCurd\nMayonnaise\nCommon_Era\nToned_milk\nCrema_(dairy_product)\nBreastfeeding\nWest_Germanic_languages\nEnzyme\nTyrosemiophilia\nPistou\nCheese_ripening\nSodium\nColostrum\nCharlemagne\nMayo_Clinic\nVinegar\nTonkatsu\nList_of_Pakistani_condiments\nGoat_cheese\nCrushed_red_pepper\nAcid\nBhutan\nDomestication\nCocktail_sauce\nFAOSTAT\nAmine\nBreast_milk\nIslam\nA2_milk\nDuqqa\nSamuel_Butler_(novelist)\nOrganic_milk\nMilk_crate\nChili_paste\nAncient_Rome\nGuacamole\nCheesemaker\nSoybean\nDabu-dabu\nMacronutrient\nPalapa_(condiment)\nYogurt\nCheeses_of_Switzerland\nBarbecue_sauce\nXO_sauce\nUSDA_National_Nutrient_Database\nFatty_acid\nPhilippine_condiments\nKaong_palm_vinegar\nToyomansi\nTonne\nChimichurri\nMilk_sugar\nPaneer\nSay_cheese\nKeen%27s\nOccitan\nQueso_fresco\nGermany\nVitamin\nThermophilic\nAgrodolce\nYmer_(dairy_product)\nCurry_ketchup\nYunnan\nApennines\nRemoulade\nYak\nMalted_milk\nHerb\nEmmental_(cheese)\nTacuinum_sanitatis\nKosher_foods\nBagoong\nDairy_product\nColo-colo_(condiment)\nKumis\nCottage_cheese\nGouda_cheese\nHoney_mustard\nPliny_the_Elder\nHalford_Leicestershire_Table_Sauce\nPico_de_gallo\nTewkesbury_mustard\nMouthfeel\nNational_Mustard_Museum\nLactobacilli\nTetra_Brik\nStarter_bacteria\nFeta\nRanch_dressing\nAmba_(condiment)\nWatermelon_rind_preserves\nMilkshake\nFondue\nChhurpi\n"
     ]
    }
   ],
   "source": [
    "# initiate an empty list to store wiki entries\n",
    "entries = []\n",
    "# initiate an empty list to store edges between wikinodes\n",
    "edges = []\n",
    "\n",
    "# parse the txt database\n",
    "# @line each line of the txt file\n",
    "# @word each work in each line\n",
    "with open('testData_100entries.txt') as f:\n",
    "    lines = f.readlines()\n",
    "    for line in lines:\n",
    "        words = line.split(',') \n",
    "        print(words[0])\n",
    "        entries.append(words[0])\n",
    "        # for every word in every line\n",
    "        for word in words:\n",
    "            # words[1] is the link number\n",
    "            if word is not words[1] and word is not word[0]:\n",
    "                # there are definitely repetitive edges\n",
    "                edges.append([words[0], word])"
   ]
  },
  {
   "cell_type": "code",
   "execution_count": 3,
   "metadata": {},
   "outputs": [
    {
     "output_type": "execute_result",
     "data": {
      "text/plain": [
       "        source             target\n",
       "0       Cheese             Cheese\n",
       "1       Cheese         Prehistory\n",
       "2       Cheese   Milking_pipeline\n",
       "3       Cheese     Langres_cheese\n",
       "4       Cheese               Curd\n",
       "...        ...                ...\n",
       "38614  Chhurpi         Buttermilk\n",
       "38615  Chhurpi                Cow\n",
       "38616  Chhurpi          Himalayas\n",
       "38617  Chhurpi              Nepal\n",
       "38618  Chhurpi  Momo_(dumpling)\\n\n",
       "\n",
       "[38619 rows x 2 columns]"
      ],
      "text/html": "<div>\n<style scoped>\n    .dataframe tbody tr th:only-of-type {\n        vertical-align: middle;\n    }\n\n    .dataframe tbody tr th {\n        vertical-align: top;\n    }\n\n    .dataframe thead th {\n        text-align: right;\n    }\n</style>\n<table border=\"1\" class=\"dataframe\">\n  <thead>\n    <tr style=\"text-align: right;\">\n      <th></th>\n      <th>source</th>\n      <th>target</th>\n    </tr>\n  </thead>\n  <tbody>\n    <tr>\n      <th>0</th>\n      <td>Cheese</td>\n      <td>Cheese</td>\n    </tr>\n    <tr>\n      <th>1</th>\n      <td>Cheese</td>\n      <td>Prehistory</td>\n    </tr>\n    <tr>\n      <th>2</th>\n      <td>Cheese</td>\n      <td>Milking_pipeline</td>\n    </tr>\n    <tr>\n      <th>3</th>\n      <td>Cheese</td>\n      <td>Langres_cheese</td>\n    </tr>\n    <tr>\n      <th>4</th>\n      <td>Cheese</td>\n      <td>Curd</td>\n    </tr>\n    <tr>\n      <th>...</th>\n      <td>...</td>\n      <td>...</td>\n    </tr>\n    <tr>\n      <th>38614</th>\n      <td>Chhurpi</td>\n      <td>Buttermilk</td>\n    </tr>\n    <tr>\n      <th>38615</th>\n      <td>Chhurpi</td>\n      <td>Cow</td>\n    </tr>\n    <tr>\n      <th>38616</th>\n      <td>Chhurpi</td>\n      <td>Himalayas</td>\n    </tr>\n    <tr>\n      <th>38617</th>\n      <td>Chhurpi</td>\n      <td>Nepal</td>\n    </tr>\n    <tr>\n      <th>38618</th>\n      <td>Chhurpi</td>\n      <td>Momo_(dumpling)\\n</td>\n    </tr>\n  </tbody>\n</table>\n<p>38619 rows × 2 columns</p>\n</div>"
     },
     "metadata": {},
     "execution_count": 3
    }
   ],
   "source": [
    "# tranform the list of graph edges to a dataframe\n",
    "df = pd.DataFrame(edges, columns=['source', 'target'])\n",
    "df"
   ]
  },
  {
   "cell_type": "code",
   "execution_count": 4,
   "metadata": {},
   "outputs": [],
   "source": [
    "G = nx.from_pandas_edgelist(df, 'source', 'target')"
   ]
  },
  {
   "source": [
    "This viualization implementation is similiar to https://melaniewalsh.github.io/Intro-Cultural-Analytics/Network-Analysis/Making-Network-Viz-with-Bokeh.html"
   ],
   "cell_type": "markdown",
   "metadata": {}
  },
  {
   "cell_type": "code",
   "execution_count": 5,
   "metadata": {},
   "outputs": [],
   "source": [
    "from bokeh.io import output_file, output_notebook, show, save\n",
    "from bokeh.models import Range1d, Circle, ColumnDataSource, MultiLine, EdgesAndLinkedNodes, NodesAndLinkedEdges\n",
    "from bokeh.plotting import figure\n",
    "from bokeh.plotting import from_networkx\n",
    "from bokeh.palettes import Blues8, Reds8, Purples8, Oranges8, Viridis8, Spectral8\n",
    "from bokeh.transform import linear_cmap\n",
    "from networkx.algorithms import community"
   ]
  },
  {
   "cell_type": "code",
   "execution_count": 10,
   "metadata": {},
   "outputs": [],
   "source": [
    "\n",
    "from bokeh.models import (BoxSelectTool, Circle, EdgesAndLinkedNodes, HoverTool, MultiLine, NodesAndLinkedEdges, Plot, Range1d, TapTool,)\n",
    "from bokeh.palettes import Spectral4"
   ]
  },
  {
   "cell_type": "code",
   "execution_count": 7,
   "metadata": {},
   "outputs": [],
   "source": [
    "# Calculate children Wiki Articles (degree) for each node\n",
    "degrees = dict(nx.degree(G))\n",
    "nx.set_node_attributes(G, name='LinkNum', values=degrees)"
   ]
  },
  {
   "cell_type": "code",
   "execution_count": 8,
   "metadata": {},
   "outputs": [],
   "source": [
    "# adjust degree so that the nodes with very small degrees are still visible\n",
    "number_to_adjust_by = 5\n",
    "adjusted_node_size = dict([(node, (degree/10)+number_to_adjust_by) for node, degree in nx.degree(G)])\n",
    "nx.set_node_attributes(G, name='adjusted_node_size', values=adjusted_node_size)"
   ]
  },
  {
   "cell_type": "code",
   "execution_count": 9,
   "metadata": {},
   "outputs": [
    {
     "output_type": "stream",
     "name": "stderr",
     "text": [
      "C:\\Python\\Python37\\lib\\site-packages\\bokeh\\io\\saving.py:126: UserWarning: save() called but no resources were supplied and output_file(...) was never called, defaulting to resources.CDN\n  warn(\"save() called but no resources were supplied and output_file(...) was never called, defaulting to resources.CDN\")\nC:\\Python\\Python37\\lib\\site-packages\\bokeh\\io\\saving.py:139: UserWarning: save() called but no title was supplied and output_file(...) was never called, using default title 'Bokeh Plot'\n  warn(\"save() called but no title was supplied and output_file(...) was never called, using default title 'Bokeh Plot'\")\n"
     ]
    }
   ],
   "source": [
    "#Choose attributes from G network to size and color\n",
    "size_by_this_attribute = 'adjusted_node_size'\n",
    "color_by_this_attribute = 'adjusted_node_size'\n",
    "\n",
    "#Choose colors for node and edge highlighting\n",
    "node_highlight_color = Spectral4[2]\n",
    "edge_highlight_color = Spectral4[2]\n",
    "\n",
    "title = 'Wikipedia Network'\n",
    "\n",
    "#Categories will appear when hovering over each node\n",
    "HOVER_TOOLTIPS = [\n",
    "       (\"WikiEntry\", \"@index\"),\n",
    "        (\"LinkNum\", \"@degree\")\n",
    "]\n",
    "\n",
    "#Create a plot — set dimensions, toolbar, and title\n",
    "plot = figure(tooltips = HOVER_TOOLTIPS,\n",
    "              tools=\"pan,wheel_zoom,save,reset,tap\", active_scroll='wheel_zoom',\n",
    "            x_range=Range1d(-10.1, 10.1), y_range=Range1d(-10.1, 10.1), title=title, plot_width=2000,plot_height=2000)\n",
    "\n",
    "network_graph = from_networkx(G, nx.spring_layout, scale=10, center=(0, 0))\n",
    "\n",
    "# for nodes, set node size and color\n",
    "network_graph.node_renderer.glyph = Circle(size=size_by_this_attribute, fill_color=Spectral4[1], fill_alpha=0.7,\n",
    "          line_color=None)\n",
    "network_graph.node_renderer.hover_glyph = Circle(size=size_by_this_attribute, fill_color=node_highlight_color, line_width=2)\n",
    "network_graph.node_renderer.selection_glyph = Circle(size=size_by_this_attribute, fill_color=node_highlight_color, line_width=2)\n",
    "\n",
    "# for edges, set edge weight and color\n",
    "#Set edge opacity and width\n",
    "network_graph.edge_renderer.glyph = MultiLine(line_alpha=0.5, line_width=0.3)\n",
    "#Set edge highlight colors\n",
    "network_graph.edge_renderer.selection_glyph = MultiLine(line_color=edge_highlight_color, line_width=0.5)\n",
    "network_graph.edge_renderer.hover_glyph = MultiLine(line_color=edge_highlight_color, line_width=0.5)\n",
    "\n",
    "\n",
    "# INTERACTIVE\n",
    "network_graph.selection_policy = NodesAndLinkedEdges()\n",
    "network_graph.inspection_policy = NodesAndLinkedEdges()\n",
    "# network_graph.selection_policy = EdgesAndLinkedNodes()\n",
    "# this inspection cause error\n",
    "# network_graph.inspection_policy = EdgesAndLinkedNodes()\n",
    "\n",
    "plot.renderers.append(network_graph)\n",
    "save(plot, filename=f\"{title}.html\")\n",
    "show(plot)\n"
   ]
  },
  {
   "cell_type": "code",
   "execution_count": null,
   "metadata": {},
   "outputs": [],
   "source": []
  }
 ]
}